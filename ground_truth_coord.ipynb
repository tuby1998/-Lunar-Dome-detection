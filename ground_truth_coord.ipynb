{
 "cells": [
  {
   "cell_type": "markdown",
   "id": "61d8f1be",
   "metadata": {},
   "source": [
    "### Import all the libraries"
   ]
  },
  {
   "cell_type": "code",
   "execution_count": 1,
   "id": "1683faef",
   "metadata": {},
   "outputs": [],
   "source": [
    "import xml.etree.ElementTree as et\n",
    "from glob import glob\n",
    "import numpy"
   ]
  },
  {
   "cell_type": "markdown",
   "id": "a4173834",
   "metadata": {},
   "source": [
    "### Prepare all the files"
   ]
  },
  {
   "cell_type": "code",
   "execution_count": 8,
   "id": "c216577b",
   "metadata": {},
   "outputs": [
    {
     "name": "stdout",
     "output_type": "stream",
     "text": [
      "['C:/Users/avishek/OneDrive/Desktop/accuracy/test_seed70\\\\a1,2.xml', 'C:/Users/avishek/OneDrive/Desktop/accuracy/test_seed70\\\\c1,3,4.xml', 'C:/Users/avishek/OneDrive/Desktop/accuracy/test_seed70\\\\v1-7.xml']\n"
     ]
    }
   ],
   "source": [
    "# Extract the list of xml files from test\n",
    "xml_list = glob('C:/Users/avishek/OneDrive/Desktop/accuracy/test_seed70/*.xml')\n",
    "print(xml_list)\n",
    "# Create an empty list where file name prefixes are appended\n",
    "file_name_list = []\n",
    "\n",
    "# Loop through the xml_list and add the file name to the file_name_list\n",
    "for name in xml_list:\n",
    "    file_name_list.append(name.split('/')[-1].split('.')[0])"
   ]
  },
  {
   "cell_type": "markdown",
   "id": "a939d40a",
   "metadata": {},
   "source": [
    "### Write the coordinates to the file"
   ]
  },
  {
   "cell_type": "code",
   "execution_count": 9,
   "id": "c92675fd",
   "metadata": {},
   "outputs": [
    {
     "name": "stdout",
     "output_type": "stream",
     "text": [
      "a1,2\n",
      "c1,3,4\n",
      "v1-7\n"
     ]
    }
   ],
   "source": [
    "for file_name in file_name_list: \n",
    "    file_name = file_name.split('\\\\')[-1].split('.')[0]\n",
    "    print(file_name)\n",
    "    tree = et.parse('C:/Users/avishek/OneDrive/Desktop/accuracy/test_seed70/{}.xml'.format(file_name))\n",
    "    tree = tree.getroot()\n",
    "    f = open(\"C:/Users/avishek/OneDrive/Desktop/accuracy/groundtruths/{}.txt\".format(file_name), \"w\")\n",
    "    for x in tree.findall('object'):\n",
    "        xmin = x.find('bndbox').find('xmin').text\n",
    "        ymin = x.find('bndbox').find('ymin').text\n",
    "        xmax = x.find('bndbox').find('xmax').text\n",
    "        ymax = x.find('bndbox').find('ymax').text\n",
    "        f.write(\"dome {} {} {} {}\\n\".format(xmin,ymin,xmax,ymax))\n",
    "    f.close()"
   ]
  },
  {
   "cell_type": "code",
   "execution_count": 11,
   "id": "fc0f239b",
   "metadata": {},
   "outputs": [
    {
     "name": "stdout",
     "output_type": "stream",
     "text": [
      "0.33\n",
      "0.62625\n",
      "0.5815602836879432\n"
     ]
    }
   ],
   "source": [
    "import statistics\n",
    "Precision=['0.00', '0.00', '0.33', '0.50', '0.40', '0.33', '0.29', '0.38', '0.33', '0.30', '0.36', '0.42', '0.38', '0.36', '0.40', '0.38', '0.41', '0.39', '0.37', '0.35', '0.33', '0.32', '0.30', '0.29']\n",
    "# p=[int(x) for x in Precision]\n",
    "# print(str(p))\n",
    "Recall=['0.01', '0.01', '0.14', '0.29', '0.29', '0.29', '0.29', '0.43', '0.43', '0.43', '0.57', '0.71', '0.71', '0.71', '0.86', '0.86', '1.00', '1.00', '1.00', '1.00', '1.00', '1.00', '1.00', '1.00']\n",
    "#print(statistics.mean(int(Recall)))\n",
    "precisions = [float(x) for x in Precision]\n",
    "print(statistics.mean(precisions))\n",
    "recalls = [float(x) for x in Recall]\n",
    "print(statistics.mean(recalls))\n",
    "f1 = 2 * ((numpy.array(precisions) * numpy.array(recalls)) / (numpy.array(precisions) + numpy.array(recalls)))\n",
    "print(max(f1))"
   ]
  },
  {
   "cell_type": "code",
   "execution_count": null,
   "id": "9a64c62c",
   "metadata": {},
   "outputs": [],
   "source": []
  }
 ],
 "metadata": {
  "kernelspec": {
   "display_name": "Python 3 (ipykernel)",
   "language": "python",
   "name": "python3"
  },
  "language_info": {
   "codemirror_mode": {
    "name": "ipython",
    "version": 3
   },
   "file_extension": ".py",
   "mimetype": "text/x-python",
   "name": "python",
   "nbconvert_exporter": "python",
   "pygments_lexer": "ipython3",
   "version": "3.9.7"
  }
 },
 "nbformat": 4,
 "nbformat_minor": 5
}
