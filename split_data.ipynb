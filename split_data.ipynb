{
 "cells": [
  {
   "cell_type": "code",
   "execution_count": 1,
   "id": "583cc4f5",
   "metadata": {},
   "outputs": [
    {
     "name": "stdout",
     "output_type": "stream",
     "text": [
      "Requirement already satisfied: split-folders in c:\\users\\avishek\\anaconda3\\lib\\site-packages (0.5.1)\n",
      "Note: you may need to restart the kernel to use updated packages.\n"
     ]
    }
   ],
   "source": [
    "pip install split-folders"
   ]
  },
  {
   "cell_type": "code",
   "execution_count": 2,
   "id": "d3bd51cf",
   "metadata": {},
   "outputs": [],
   "source": [
    "import splitfolders"
   ]
  },
  {
   "cell_type": "code",
   "execution_count": 16,
   "id": "ca922a8a",
   "metadata": {},
   "outputs": [
    {
     "name": "stderr",
     "output_type": "stream",
     "text": [
      "Copying files: 15 files [00:00, 202.32 files/s]\n"
     ]
    }
   ],
   "source": [
    "splitfolders.ratio(r\"C:\\Users\\avishek\\OneDrive\\Desktop\\input\", output=r\"C:\\Users\\avishek\\OneDrive\\Desktop\\output_new_60,20,20\",\n",
    "    seed=200, ratio=(.6, .2, .2), group_prefix=2, move=False) # default values"
   ]
  },
  {
   "cell_type": "code",
   "execution_count": 11,
   "id": "b67c8192",
   "metadata": {},
   "outputs": [
    {
     "name": "stdout",
     "output_type": "stream",
     "text": [
      "Collecting detecto\n",
      "  Using cached detecto-1.2.2-py3-none-any.whl (25 kB)\n",
      "Requirement already satisfied: matplotlib in c:\\users\\avishek\\anaconda3\\lib\\site-packages (from detecto) (3.4.3)\n",
      "Requirement already satisfied: tqdm in c:\\users\\avishek\\anaconda3\\lib\\site-packages (from detecto) (4.62.3)\n",
      "Collecting torchvision\n",
      "  Using cached torchvision-0.13.1-cp39-cp39-win_amd64.whl (1.1 MB)\n",
      "Requirement already satisfied: pandas in c:\\users\\avishek\\anaconda3\\lib\\site-packages (from detecto) (1.3.4)\n",
      "Requirement already satisfied: opencv-python in c:\\users\\avishek\\anaconda3\\lib\\site-packages (from detecto) (4.6.0.66)\n",
      "Requirement already satisfied: torch in c:\\users\\avishek\\anaconda3\\lib\\site-packages (from detecto) (1.12.1)\n",
      "Requirement already satisfied: python-dateutil>=2.7 in c:\\users\\avishek\\anaconda3\\lib\\site-packages (from matplotlib->detecto) (2.8.2)\n",
      "Requirement already satisfied: numpy>=1.16 in c:\\users\\avishek\\anaconda3\\lib\\site-packages (from matplotlib->detecto) (1.20.3)\n",
      "Requirement already satisfied: cycler>=0.10 in c:\\users\\avishek\\anaconda3\\lib\\site-packages (from matplotlib->detecto) (0.10.0)\n",
      "Requirement already satisfied: pillow>=6.2.0 in c:\\users\\avishek\\anaconda3\\lib\\site-packages (from matplotlib->detecto) (8.4.0)\n",
      "Requirement already satisfied: kiwisolver>=1.0.1 in c:\\users\\avishek\\anaconda3\\lib\\site-packages (from matplotlib->detecto) (1.3.1)\n",
      "Requirement already satisfied: pyparsing>=2.2.1 in c:\\users\\avishek\\anaconda3\\lib\\site-packages (from matplotlib->detecto) (3.0.4)\n",
      "Requirement already satisfied: six in c:\\users\\avishek\\anaconda3\\lib\\site-packages (from cycler>=0.10->matplotlib->detecto) (1.16.0)\n",
      "Requirement already satisfied: pytz>=2017.3 in c:\\users\\avishek\\anaconda3\\lib\\site-packages (from pandas->detecto) (2021.3)\n",
      "Requirement already satisfied: typing-extensions in c:\\users\\avishek\\anaconda3\\lib\\site-packages (from torch->detecto) (3.10.0.2)\n",
      "Requirement already satisfied: requests in c:\\users\\avishek\\anaconda3\\lib\\site-packages (from torchvision->detecto) (2.26.0)\n",
      "Requirement already satisfied: charset-normalizer~=2.0.0 in c:\\users\\avishek\\anaconda3\\lib\\site-packages (from requests->torchvision->detecto) (2.0.4)\n",
      "Requirement already satisfied: urllib3<1.27,>=1.21.1 in c:\\users\\avishek\\anaconda3\\lib\\site-packages (from requests->torchvision->detecto) (1.26.7)\n",
      "Requirement already satisfied: certifi>=2017.4.17 in c:\\users\\avishek\\anaconda3\\lib\\site-packages (from requests->torchvision->detecto) (2021.10.8)\n",
      "Requirement already satisfied: idna<4,>=2.5 in c:\\users\\avishek\\anaconda3\\lib\\site-packages (from requests->torchvision->detecto) (3.2)\n",
      "Requirement already satisfied: colorama in c:\\users\\avishek\\anaconda3\\lib\\site-packages (from tqdm->detecto) (0.4.4)\n",
      "Installing collected packages: torchvision, detecto\n",
      "Successfully installed detecto-1.2.2 torchvision-0.13.1\n"
     ]
    }
   ],
   "source": [
    "!pip install detecto"
   ]
  },
  {
   "cell_type": "code",
   "execution_count": 12,
   "id": "e6c8df92",
   "metadata": {},
   "outputs": [],
   "source": [
    "from torchvision import transforms\n",
    "from detecto import core, utils, visualize\n",
    "import matplotlib.pyplot as plt\n"
   ]
  },
  {
   "cell_type": "code",
   "execution_count": 13,
   "id": "90ea3edf",
   "metadata": {},
   "outputs": [
    {
     "name": "stderr",
     "output_type": "stream",
     "text": [
      "C:\\Users\\avishek\\anaconda3\\lib\\site-packages\\torchvision\\models\\_utils.py:208: UserWarning: The parameter 'pretrained' is deprecated since 0.13 and will be removed in 0.15, please use 'weights' instead.\n",
      "  warnings.warn(\n",
      "C:\\Users\\avishek\\anaconda3\\lib\\site-packages\\torchvision\\models\\_utils.py:223: UserWarning: Arguments other than a weight enum or `None` for 'weights' are deprecated since 0.13 and will be removed in 0.15. The current behavior is equivalent to passing `weights=FasterRCNN_ResNet50_FPN_Weights.COCO_V1`. You can also use `weights=FasterRCNN_ResNet50_FPN_Weights.DEFAULT` to get the most up-to-date weights.\n",
      "  warnings.warn(msg)\n",
      "Downloading: \"https://download.pytorch.org/models/fasterrcnn_resnet50_fpn_coco-258fb6c6.pth\" to C:\\Users\\avishek/.cache\\torch\\hub\\checkpoints\\fasterrcnn_resnet50_fpn_coco-258fb6c6.pth\n"
     ]
    },
    {
     "data": {
      "application/vnd.jupyter.widget-view+json": {
       "model_id": "f9b6acde53b34ef38de4bbc8dfba1aae",
       "version_major": 2,
       "version_minor": 0
      },
      "text/plain": [
       "  0%|          | 0.00/160M [00:00<?, ?B/s]"
      ]
     },
     "metadata": {},
     "output_type": "display_data"
    }
   ],
   "source": [
    "model = core.Model.load('model_weights.pth', ['dome'])"
   ]
  },
  {
   "cell_type": "code",
   "execution_count": null,
   "id": "cb515824",
   "metadata": {},
   "outputs": [],
   "source": []
  }
 ],
 "metadata": {
  "kernelspec": {
   "display_name": "Python 3 (ipykernel)",
   "language": "python",
   "name": "python3"
  },
  "language_info": {
   "codemirror_mode": {
    "name": "ipython",
    "version": 3
   },
   "file_extension": ".py",
   "mimetype": "text/x-python",
   "name": "python",
   "nbconvert_exporter": "python",
   "pygments_lexer": "ipython3",
   "version": "3.9.7"
  }
 },
 "nbformat": 4,
 "nbformat_minor": 5
}
